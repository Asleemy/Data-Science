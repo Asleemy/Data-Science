{
  "nbformat": 4,
  "nbformat_minor": 0,
  "metadata": {
    "colab": {
      "name": "first_example.ipynb",
      "provenance": []
    },
    "kernelspec": {
      "name": "python3",
      "display_name": "Python 3"
    },
    "language_info": {
      "name": "python"
    }
  },
  "cells": [
    {
      "cell_type": "markdown",
      "source": [
        "**Python Code to Generate a geometric Sequence**"
      ],
      "metadata": {
        "id": "meroFQhs1Lbj"
      }
    },
    {
      "cell_type": "code",
      "source": [
        "import numpy as np\n",
        "import matplotlib.pyplot as plt\n",
        "p = 1/2\n",
        "n = np.arange(0,10)\n",
        "X = np.power(p,n)\n",
        "plt.bar(n,X)"
      ],
      "metadata": {
        "colab": {
          "base_uri": "https://localhost:8080/",
          "height": 283
        },
        "id": "fOxqEAfZ1WYb",
        "outputId": "aad7080d-e3d1-4775-e96f-9370d7705cad"
      },
      "execution_count": 1,
      "outputs": [
        {
          "output_type": "execute_result",
          "data": {
            "text/plain": [
              "<BarContainer object of 10 artists>"
            ]
          },
          "metadata": {},
          "execution_count": 1
        },
        {
          "output_type": "display_data",
          "data": {
            "image/png": "[encoded data removed]",
            "text/plain": [
              "<Figure size 432x288 with 1 Axes>"
            ]
          },
          "metadata": {
            "needs_background": "light"
          }
        }
      ]
    },
    {
      "cell_type": "markdown",
      "source": [
        "**Python code to compute (N choose K) and K! **"
      ],
      "metadata": {
        "id": "VwxrUMjMOFHG"
      }
    },
    {
      "cell_type": "code",
      "execution_count": 2,
      "metadata": {
        "colab": {
          "base_uri": "https://localhost:8080/"
        },
        "id": "Soo9uq0f1A2J",
        "outputId": "2cdf7b97-d173-4789-a34c-2f977f6ccca6"
      },
      "outputs": [
        {
          "output_type": "execute_result",
          "data": {
            "text/plain": [
              "2.0"
            ]
          },
          "metadata": {},
          "execution_count": 2
        }
      ],
      "source": [
        "from scipy.special import comb, factorial\n",
        "n = 10\n",
        "k = 2\n",
        "comb(n,k)\n",
        "factorial(k)"
      ]
    },
    {
      "cell_type": "markdown",
      "source": [
        "*This is *"
      ],
      "metadata": {
        "id": "qtLKyP7o74iu"
      }
    },
    {
      "cell_type": "code",
      "source": [
        ""
      ],
      "metadata": {
        "id": "M_HYSKbu7zI1"
      },
      "execution_count": null,
      "outputs": []
    }
  ]
}